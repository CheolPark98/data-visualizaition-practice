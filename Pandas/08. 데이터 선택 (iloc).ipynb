{
 "cells": [
  {
   "cell_type": "markdown",
   "id": "46fb657c",
   "metadata": {},
   "source": [
    "# 8. 데이터 선택(iloc)\n",
    "위치를 이용하여 원하는 row에서 원하는 col 선택"
   ]
  },
  {
   "cell_type": "code",
   "execution_count": 1,
   "id": "e616892b",
   "metadata": {},
   "outputs": [
    {
     "data": {
      "text/html": [
       "<div>\n",
       "<style scoped>\n",
       "    .dataframe tbody tr th:only-of-type {\n",
       "        vertical-align: middle;\n",
       "    }\n",
       "\n",
       "    .dataframe tbody tr th {\n",
       "        vertical-align: top;\n",
       "    }\n",
       "\n",
       "    .dataframe thead th {\n",
       "        text-align: right;\n",
       "    }\n",
       "</style>\n",
       "<table border=\"1\" class=\"dataframe\">\n",
       "  <thead>\n",
       "    <tr style=\"text-align: right;\">\n",
       "      <th></th>\n",
       "      <th>이름</th>\n",
       "      <th>계급</th>\n",
       "      <th>키</th>\n",
       "      <th>국어</th>\n",
       "      <th>영어</th>\n",
       "      <th>수학</th>\n",
       "      <th>과학</th>\n",
       "      <th>사회</th>\n",
       "      <th>사용호흡</th>\n",
       "    </tr>\n",
       "    <tr>\n",
       "      <th>이명</th>\n",
       "      <th></th>\n",
       "      <th></th>\n",
       "      <th></th>\n",
       "      <th></th>\n",
       "      <th></th>\n",
       "      <th></th>\n",
       "      <th></th>\n",
       "      <th></th>\n",
       "      <th></th>\n",
       "    </tr>\n",
       "  </thead>\n",
       "  <tbody>\n",
       "    <tr>\n",
       "      <th>염주</th>\n",
       "      <td>렌고쿠</td>\n",
       "      <td>주</td>\n",
       "      <td>177</td>\n",
       "      <td>90</td>\n",
       "      <td>85</td>\n",
       "      <td>100</td>\n",
       "      <td>95</td>\n",
       "      <td>85</td>\n",
       "      <td>화염</td>\n",
       "    </tr>\n",
       "    <tr>\n",
       "      <th>하주</th>\n",
       "      <td>무이치로</td>\n",
       "      <td>주</td>\n",
       "      <td>160</td>\n",
       "      <td>40</td>\n",
       "      <td>35</td>\n",
       "      <td>50</td>\n",
       "      <td>55</td>\n",
       "      <td>25</td>\n",
       "      <td>안개</td>\n",
       "    </tr>\n",
       "    <tr>\n",
       "      <th>음주</th>\n",
       "      <td>텐겐</td>\n",
       "      <td>주</td>\n",
       "      <td>198</td>\n",
       "      <td>80</td>\n",
       "      <td>75</td>\n",
       "      <td>70</td>\n",
       "      <td>80</td>\n",
       "      <td>75</td>\n",
       "      <td>소리</td>\n",
       "    </tr>\n",
       "    <tr>\n",
       "      <th>연주</th>\n",
       "      <td>미츠리</td>\n",
       "      <td>주</td>\n",
       "      <td>167</td>\n",
       "      <td>40</td>\n",
       "      <td>60</td>\n",
       "      <td>70</td>\n",
       "      <td>75</td>\n",
       "      <td>80</td>\n",
       "      <td>사랑</td>\n",
       "    </tr>\n",
       "    <tr>\n",
       "      <th>수주</th>\n",
       "      <td>기유</td>\n",
       "      <td>주</td>\n",
       "      <td>176</td>\n",
       "      <td>15</td>\n",
       "      <td>20</td>\n",
       "      <td>10</td>\n",
       "      <td>35</td>\n",
       "      <td>10</td>\n",
       "      <td>물</td>\n",
       "    </tr>\n",
       "    <tr>\n",
       "      <th>충주</th>\n",
       "      <td>시노부</td>\n",
       "      <td>주</td>\n",
       "      <td>151</td>\n",
       "      <td>80</td>\n",
       "      <td>100</td>\n",
       "      <td>95</td>\n",
       "      <td>85</td>\n",
       "      <td>80</td>\n",
       "      <td>벌레</td>\n",
       "    </tr>\n",
       "    <tr>\n",
       "      <th>풍주</th>\n",
       "      <td>사네미</td>\n",
       "      <td>주</td>\n",
       "      <td>179</td>\n",
       "      <td>55</td>\n",
       "      <td>65</td>\n",
       "      <td>45</td>\n",
       "      <td>40</td>\n",
       "      <td>35</td>\n",
       "      <td>바람</td>\n",
       "    </tr>\n",
       "    <tr>\n",
       "      <th>주인공</th>\n",
       "      <td>탄지로</td>\n",
       "      <td>병</td>\n",
       "      <td>165</td>\n",
       "      <td>100</td>\n",
       "      <td>85</td>\n",
       "      <td>90</td>\n",
       "      <td>95</td>\n",
       "      <td>95</td>\n",
       "      <td>물, 해</td>\n",
       "    </tr>\n",
       "  </tbody>\n",
       "</table>\n",
       "</div>"
      ],
      "text/plain": [
       "       이름 계급    키   국어   영어   수학  과학  사회  사용호흡\n",
       "이명                                            \n",
       "염주    렌고쿠  주  177   90   85  100  95  85    화염\n",
       "하주   무이치로  주  160   40   35   50  55  25    안개\n",
       "음주     텐겐  주  198   80   75   70  80  75    소리\n",
       "연주    미츠리  주  167   40   60   70  75  80    사랑\n",
       "수주     기유  주  176   15   20   10  35  10     물\n",
       "충주    시노부  주  151   80  100   95  85  80    벌레\n",
       "풍주    사네미  주  179   55   65   45  40  35    바람\n",
       "주인공   탄지로  병  165  100   85   90  95  95  물, 해"
      ]
     },
     "execution_count": 1,
     "metadata": {},
     "output_type": "execute_result"
    }
   ],
   "source": [
    "import pandas as pd\n",
    "df = pd.read_csv('DSC.txt',index_col='이명' )\n",
    "df  "
   ]
  },
  {
   "cell_type": "code",
   "execution_count": 2,
   "id": "2c1b2627",
   "metadata": {},
   "outputs": [
    {
     "data": {
      "text/plain": [
       "이름      렌고쿠\n",
       "계급        주\n",
       "키       177\n",
       "국어       90\n",
       "영어       85\n",
       "수학      100\n",
       "과학       95\n",
       "사회       85\n",
       "사용호흡     화염\n",
       "Name: 염주, dtype: object"
      ]
     },
     "execution_count": 2,
     "metadata": {},
     "output_type": "execute_result"
    }
   ],
   "source": [
    "df.iloc[0]"
   ]
  },
  {
   "cell_type": "code",
   "execution_count": 4,
   "id": "8caa829c",
   "metadata": {},
   "outputs": [
    {
     "data": {
      "text/plain": [
       "이름       기유\n",
       "계급        주\n",
       "키       176\n",
       "국어       15\n",
       "영어       20\n",
       "수학       10\n",
       "과학       35\n",
       "사회       10\n",
       "사용호흡      물\n",
       "Name: 수주, dtype: object"
      ]
     },
     "execution_count": 4,
     "metadata": {},
     "output_type": "execute_result"
    }
   ],
   "source": [
    "df.iloc[4]"
   ]
  },
  {
   "cell_type": "code",
   "execution_count": 5,
   "id": "7fa7647f",
   "metadata": {},
   "outputs": [
    {
     "data": {
      "text/html": [
       "<div>\n",
       "<style scoped>\n",
       "    .dataframe tbody tr th:only-of-type {\n",
       "        vertical-align: middle;\n",
       "    }\n",
       "\n",
       "    .dataframe tbody tr th {\n",
       "        vertical-align: top;\n",
       "    }\n",
       "\n",
       "    .dataframe thead th {\n",
       "        text-align: right;\n",
       "    }\n",
       "</style>\n",
       "<table border=\"1\" class=\"dataframe\">\n",
       "  <thead>\n",
       "    <tr style=\"text-align: right;\">\n",
       "      <th></th>\n",
       "      <th>이름</th>\n",
       "      <th>계급</th>\n",
       "      <th>키</th>\n",
       "      <th>국어</th>\n",
       "      <th>영어</th>\n",
       "      <th>수학</th>\n",
       "      <th>과학</th>\n",
       "      <th>사회</th>\n",
       "      <th>사용호흡</th>\n",
       "    </tr>\n",
       "    <tr>\n",
       "      <th>이명</th>\n",
       "      <th></th>\n",
       "      <th></th>\n",
       "      <th></th>\n",
       "      <th></th>\n",
       "      <th></th>\n",
       "      <th></th>\n",
       "      <th></th>\n",
       "      <th></th>\n",
       "      <th></th>\n",
       "    </tr>\n",
       "  </thead>\n",
       "  <tbody>\n",
       "    <tr>\n",
       "      <th>하주</th>\n",
       "      <td>무이치로</td>\n",
       "      <td>주</td>\n",
       "      <td>160</td>\n",
       "      <td>40</td>\n",
       "      <td>35</td>\n",
       "      <td>50</td>\n",
       "      <td>55</td>\n",
       "      <td>25</td>\n",
       "      <td>안개</td>\n",
       "    </tr>\n",
       "    <tr>\n",
       "      <th>음주</th>\n",
       "      <td>텐겐</td>\n",
       "      <td>주</td>\n",
       "      <td>198</td>\n",
       "      <td>80</td>\n",
       "      <td>75</td>\n",
       "      <td>70</td>\n",
       "      <td>80</td>\n",
       "      <td>75</td>\n",
       "      <td>소리</td>\n",
       "    </tr>\n",
       "    <tr>\n",
       "      <th>연주</th>\n",
       "      <td>미츠리</td>\n",
       "      <td>주</td>\n",
       "      <td>167</td>\n",
       "      <td>40</td>\n",
       "      <td>60</td>\n",
       "      <td>70</td>\n",
       "      <td>75</td>\n",
       "      <td>80</td>\n",
       "      <td>사랑</td>\n",
       "    </tr>\n",
       "    <tr>\n",
       "      <th>수주</th>\n",
       "      <td>기유</td>\n",
       "      <td>주</td>\n",
       "      <td>176</td>\n",
       "      <td>15</td>\n",
       "      <td>20</td>\n",
       "      <td>10</td>\n",
       "      <td>35</td>\n",
       "      <td>10</td>\n",
       "      <td>물</td>\n",
       "    </tr>\n",
       "  </tbody>\n",
       "</table>\n",
       "</div>"
      ],
      "text/plain": [
       "      이름 계급    키  국어  영어  수학  과학  사회 사용호흡\n",
       "이명                                       \n",
       "하주  무이치로  주  160  40  35  50  55  25   안개\n",
       "음주    텐겐  주  198  80  75  70  80  75   소리\n",
       "연주   미츠리  주  167  40  60  70  75  80   사랑\n",
       "수주    기유  주  176  15  20  10  35  10    물"
      ]
     },
     "execution_count": 5,
     "metadata": {},
     "output_type": "execute_result"
    }
   ],
   "source": [
    "df.iloc[1:5]"
   ]
  },
  {
   "cell_type": "code",
   "execution_count": 6,
   "id": "0b079812",
   "metadata": {},
   "outputs": [
    {
     "data": {
      "text/plain": [
       "75"
      ]
     },
     "execution_count": 6,
     "metadata": {},
     "output_type": "execute_result"
    }
   ],
   "source": [
    "df.iloc[2,4] # 2번째 인덱스의 4번째 데이터"
   ]
  },
  {
   "cell_type": "code",
   "execution_count": 11,
   "id": "1a77d0aa",
   "metadata": {},
   "outputs": [
    {
     "data": {
      "text/html": [
       "<div>\n",
       "<style scoped>\n",
       "    .dataframe tbody tr th:only-of-type {\n",
       "        vertical-align: middle;\n",
       "    }\n",
       "\n",
       "    .dataframe tbody tr th {\n",
       "        vertical-align: top;\n",
       "    }\n",
       "\n",
       "    .dataframe thead th {\n",
       "        text-align: right;\n",
       "    }\n",
       "</style>\n",
       "<table border=\"1\" class=\"dataframe\">\n",
       "  <thead>\n",
       "    <tr style=\"text-align: right;\">\n",
       "      <th></th>\n",
       "      <th>키</th>\n",
       "      <th>영어</th>\n",
       "    </tr>\n",
       "    <tr>\n",
       "      <th>이명</th>\n",
       "      <th></th>\n",
       "      <th></th>\n",
       "    </tr>\n",
       "  </thead>\n",
       "  <tbody>\n",
       "    <tr>\n",
       "      <th>하주</th>\n",
       "      <td>160</td>\n",
       "      <td>35</td>\n",
       "    </tr>\n",
       "    <tr>\n",
       "      <th>연주</th>\n",
       "      <td>167</td>\n",
       "      <td>60</td>\n",
       "    </tr>\n",
       "  </tbody>\n",
       "</table>\n",
       "</div>"
      ],
      "text/plain": [
       "      키  영어\n",
       "이명         \n",
       "하주  160  35\n",
       "연주  167  60"
      ]
     },
     "execution_count": 11,
     "metadata": {},
     "output_type": "execute_result"
    }
   ],
   "source": [
    "df.iloc[[1,3],[2,4]]"
   ]
  },
  {
   "cell_type": "code",
   "execution_count": 12,
   "id": "cc917e52",
   "metadata": {},
   "outputs": [
    {
     "data": {
      "text/html": [
       "<div>\n",
       "<style scoped>\n",
       "    .dataframe tbody tr th:only-of-type {\n",
       "        vertical-align: middle;\n",
       "    }\n",
       "\n",
       "    .dataframe tbody tr th {\n",
       "        vertical-align: top;\n",
       "    }\n",
       "\n",
       "    .dataframe thead th {\n",
       "        text-align: right;\n",
       "    }\n",
       "</style>\n",
       "<table border=\"1\" class=\"dataframe\">\n",
       "  <thead>\n",
       "    <tr style=\"text-align: right;\">\n",
       "      <th></th>\n",
       "      <th>키</th>\n",
       "      <th>국어</th>\n",
       "    </tr>\n",
       "    <tr>\n",
       "      <th>이명</th>\n",
       "      <th></th>\n",
       "      <th></th>\n",
       "    </tr>\n",
       "  </thead>\n",
       "  <tbody>\n",
       "    <tr>\n",
       "      <th>하주</th>\n",
       "      <td>160</td>\n",
       "      <td>40</td>\n",
       "    </tr>\n",
       "    <tr>\n",
       "      <th>음주</th>\n",
       "      <td>198</td>\n",
       "      <td>80</td>\n",
       "    </tr>\n",
       "  </tbody>\n",
       "</table>\n",
       "</div>"
      ],
      "text/plain": [
       "      키  국어\n",
       "이명         \n",
       "하주  160  40\n",
       "음주  198  80"
      ]
     },
     "execution_count": 12,
     "metadata": {},
     "output_type": "execute_result"
    }
   ],
   "source": [
    "df.iloc[1:3,2:4] #슬라이싱 대괄호 안쓰기"
   ]
  },
  {
   "cell_type": "code",
   "execution_count": null,
   "id": "89c5ab19",
   "metadata": {},
   "outputs": [],
   "source": []
  }
 ],
 "metadata": {
  "kernelspec": {
   "display_name": "Python 3 (ipykernel)",
   "language": "python",
   "name": "python3"
  },
  "language_info": {
   "codemirror_mode": {
    "name": "ipython",
    "version": 3
   },
   "file_extension": ".py",
   "mimetype": "text/x-python",
   "name": "python",
   "nbconvert_exporter": "python",
   "pygments_lexer": "ipython3",
   "version": "3.9.7"
  }
 },
 "nbformat": 4,
 "nbformat_minor": 5
}
