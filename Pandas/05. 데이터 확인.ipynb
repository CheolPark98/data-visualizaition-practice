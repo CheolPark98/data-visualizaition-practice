{
 "cells": [
  {
   "cell_type": "markdown",
   "id": "dd1d122d",
   "metadata": {},
   "source": [
    "# 5. 데이터 확인"
   ]
  },
  {
   "cell_type": "code",
   "execution_count": 5,
   "id": "6d5cf7df",
   "metadata": {},
   "outputs": [
    {
     "data": {
      "text/html": [
       "<div>\n",
       "<style scoped>\n",
       "    .dataframe tbody tr th:only-of-type {\n",
       "        vertical-align: middle;\n",
       "    }\n",
       "\n",
       "    .dataframe tbody tr th {\n",
       "        vertical-align: top;\n",
       "    }\n",
       "\n",
       "    .dataframe thead th {\n",
       "        text-align: right;\n",
       "    }\n",
       "</style>\n",
       "<table border=\"1\" class=\"dataframe\">\n",
       "  <thead>\n",
       "    <tr style=\"text-align: right;\">\n",
       "      <th></th>\n",
       "      <th>이름</th>\n",
       "      <th>계급</th>\n",
       "      <th>키</th>\n",
       "      <th>국어</th>\n",
       "      <th>영어</th>\n",
       "      <th>수학</th>\n",
       "      <th>과학</th>\n",
       "      <th>사회</th>\n",
       "      <th>사용호흡</th>\n",
       "    </tr>\n",
       "    <tr>\n",
       "      <th>이명</th>\n",
       "      <th></th>\n",
       "      <th></th>\n",
       "      <th></th>\n",
       "      <th></th>\n",
       "      <th></th>\n",
       "      <th></th>\n",
       "      <th></th>\n",
       "      <th></th>\n",
       "      <th></th>\n",
       "    </tr>\n",
       "  </thead>\n",
       "  <tbody>\n",
       "    <tr>\n",
       "      <th>염주</th>\n",
       "      <td>렌고쿠</td>\n",
       "      <td>주</td>\n",
       "      <td>177</td>\n",
       "      <td>90</td>\n",
       "      <td>85</td>\n",
       "      <td>100</td>\n",
       "      <td>95</td>\n",
       "      <td>85</td>\n",
       "      <td>화염</td>\n",
       "    </tr>\n",
       "    <tr>\n",
       "      <th>하주</th>\n",
       "      <td>무이치로</td>\n",
       "      <td>주</td>\n",
       "      <td>160</td>\n",
       "      <td>40</td>\n",
       "      <td>35</td>\n",
       "      <td>50</td>\n",
       "      <td>55</td>\n",
       "      <td>25</td>\n",
       "      <td>안개</td>\n",
       "    </tr>\n",
       "    <tr>\n",
       "      <th>음주</th>\n",
       "      <td>텐겐</td>\n",
       "      <td>주</td>\n",
       "      <td>198</td>\n",
       "      <td>80</td>\n",
       "      <td>75</td>\n",
       "      <td>70</td>\n",
       "      <td>80</td>\n",
       "      <td>75</td>\n",
       "      <td>소리</td>\n",
       "    </tr>\n",
       "    <tr>\n",
       "      <th>연주</th>\n",
       "      <td>미츠리</td>\n",
       "      <td>주</td>\n",
       "      <td>167</td>\n",
       "      <td>40</td>\n",
       "      <td>60</td>\n",
       "      <td>70</td>\n",
       "      <td>75</td>\n",
       "      <td>80</td>\n",
       "      <td>꽃</td>\n",
       "    </tr>\n",
       "    <tr>\n",
       "      <th>수주</th>\n",
       "      <td>기유</td>\n",
       "      <td>주</td>\n",
       "      <td>176</td>\n",
       "      <td>15</td>\n",
       "      <td>20</td>\n",
       "      <td>10</td>\n",
       "      <td>35</td>\n",
       "      <td>10</td>\n",
       "      <td>물</td>\n",
       "    </tr>\n",
       "    <tr>\n",
       "      <th>충주</th>\n",
       "      <td>시노부</td>\n",
       "      <td>주</td>\n",
       "      <td>151</td>\n",
       "      <td>80</td>\n",
       "      <td>100</td>\n",
       "      <td>95</td>\n",
       "      <td>85</td>\n",
       "      <td>80</td>\n",
       "      <td>벌레</td>\n",
       "    </tr>\n",
       "    <tr>\n",
       "      <th>풍주</th>\n",
       "      <td>사네미</td>\n",
       "      <td>주</td>\n",
       "      <td>179</td>\n",
       "      <td>55</td>\n",
       "      <td>65</td>\n",
       "      <td>45</td>\n",
       "      <td>40</td>\n",
       "      <td>35</td>\n",
       "      <td>바람</td>\n",
       "    </tr>\n",
       "    <tr>\n",
       "      <th>주인공</th>\n",
       "      <td>탄지로</td>\n",
       "      <td>병</td>\n",
       "      <td>165</td>\n",
       "      <td>100</td>\n",
       "      <td>85</td>\n",
       "      <td>90</td>\n",
       "      <td>95</td>\n",
       "      <td>95</td>\n",
       "      <td>물, 해</td>\n",
       "    </tr>\n",
       "  </tbody>\n",
       "</table>\n",
       "</div>"
      ],
      "text/plain": [
       "       이름 계급    키   국어   영어   수학  과학  사회  사용호흡\n",
       "이명                                            \n",
       "염주    렌고쿠  주  177   90   85  100  95  85    화염\n",
       "하주   무이치로  주  160   40   35   50  55  25    안개\n",
       "음주     텐겐  주  198   80   75   70  80  75    소리\n",
       "연주    미츠리  주  167   40   60   70  75  80     꽃\n",
       "수주     기유  주  176   15   20   10  35  10     물\n",
       "충주    시노부  주  151   80  100   95  85  80    벌레\n",
       "풍주    사네미  주  179   55   65   45  40  35    바람\n",
       "주인공   탄지로  병  165  100   85   90  95  95  물, 해"
      ]
     },
     "execution_count": 5,
     "metadata": {},
     "output_type": "execute_result"
    }
   ],
   "source": [
    "import pandas as pd\n",
    "df2 = pd.read_csv('DSC.txt',index_col='이명' )\n",
    "df2  "
   ]
  },
  {
   "cell_type": "markdown",
   "id": "b66c387f",
   "metadata": {},
   "source": [
    "## DataFrame 확인\n",
    "계산 가능한 데이터에 대해 column 별로 데이터의 갯수, 평균, 표준편차, 최소/최대값 등의 정보를 보여줌"
   ]
  },
  {
   "cell_type": "code",
   "execution_count": 6,
   "id": "cc1e7cd8",
   "metadata": {},
   "outputs": [
    {
     "data": {
      "text/html": [
       "<div>\n",
       "<style scoped>\n",
       "    .dataframe tbody tr th:only-of-type {\n",
       "        vertical-align: middle;\n",
       "    }\n",
       "\n",
       "    .dataframe tbody tr th {\n",
       "        vertical-align: top;\n",
       "    }\n",
       "\n",
       "    .dataframe thead th {\n",
       "        text-align: right;\n",
       "    }\n",
       "</style>\n",
       "<table border=\"1\" class=\"dataframe\">\n",
       "  <thead>\n",
       "    <tr style=\"text-align: right;\">\n",
       "      <th></th>\n",
       "      <th>키</th>\n",
       "      <th>국어</th>\n",
       "      <th>영어</th>\n",
       "      <th>수학</th>\n",
       "      <th>과학</th>\n",
       "      <th>사회</th>\n",
       "    </tr>\n",
       "  </thead>\n",
       "  <tbody>\n",
       "    <tr>\n",
       "      <th>count</th>\n",
       "      <td>8.000000</td>\n",
       "      <td>8.000000</td>\n",
       "      <td>8.000000</td>\n",
       "      <td>8.000000</td>\n",
       "      <td>8.000000</td>\n",
       "      <td>8.000000</td>\n",
       "    </tr>\n",
       "    <tr>\n",
       "      <th>mean</th>\n",
       "      <td>171.625000</td>\n",
       "      <td>62.500000</td>\n",
       "      <td>65.625000</td>\n",
       "      <td>66.250000</td>\n",
       "      <td>70.000000</td>\n",
       "      <td>60.625000</td>\n",
       "    </tr>\n",
       "    <tr>\n",
       "      <th>std</th>\n",
       "      <td>14.262213</td>\n",
       "      <td>29.519969</td>\n",
       "      <td>26.917533</td>\n",
       "      <td>30.325614</td>\n",
       "      <td>23.754699</td>\n",
       "      <td>32.120032</td>\n",
       "    </tr>\n",
       "    <tr>\n",
       "      <th>min</th>\n",
       "      <td>151.000000</td>\n",
       "      <td>15.000000</td>\n",
       "      <td>20.000000</td>\n",
       "      <td>10.000000</td>\n",
       "      <td>35.000000</td>\n",
       "      <td>10.000000</td>\n",
       "    </tr>\n",
       "    <tr>\n",
       "      <th>25%</th>\n",
       "      <td>163.750000</td>\n",
       "      <td>40.000000</td>\n",
       "      <td>53.750000</td>\n",
       "      <td>48.750000</td>\n",
       "      <td>51.250000</td>\n",
       "      <td>32.500000</td>\n",
       "    </tr>\n",
       "    <tr>\n",
       "      <th>50%</th>\n",
       "      <td>171.500000</td>\n",
       "      <td>67.500000</td>\n",
       "      <td>70.000000</td>\n",
       "      <td>70.000000</td>\n",
       "      <td>77.500000</td>\n",
       "      <td>77.500000</td>\n",
       "    </tr>\n",
       "    <tr>\n",
       "      <th>75%</th>\n",
       "      <td>177.500000</td>\n",
       "      <td>82.500000</td>\n",
       "      <td>85.000000</td>\n",
       "      <td>91.250000</td>\n",
       "      <td>87.500000</td>\n",
       "      <td>81.250000</td>\n",
       "    </tr>\n",
       "    <tr>\n",
       "      <th>max</th>\n",
       "      <td>198.000000</td>\n",
       "      <td>100.000000</td>\n",
       "      <td>100.000000</td>\n",
       "      <td>100.000000</td>\n",
       "      <td>95.000000</td>\n",
       "      <td>95.000000</td>\n",
       "    </tr>\n",
       "  </tbody>\n",
       "</table>\n",
       "</div>"
      ],
      "text/plain": [
       "                키          국어          영어          수학         과학         사회\n",
       "count    8.000000    8.000000    8.000000    8.000000   8.000000   8.000000\n",
       "mean   171.625000   62.500000   65.625000   66.250000  70.000000  60.625000\n",
       "std     14.262213   29.519969   26.917533   30.325614  23.754699  32.120032\n",
       "min    151.000000   15.000000   20.000000   10.000000  35.000000  10.000000\n",
       "25%    163.750000   40.000000   53.750000   48.750000  51.250000  32.500000\n",
       "50%    171.500000   67.500000   70.000000   70.000000  77.500000  77.500000\n",
       "75%    177.500000   82.500000   85.000000   91.250000  87.500000  81.250000\n",
       "max    198.000000  100.000000  100.000000  100.000000  95.000000  95.000000"
      ]
     },
     "execution_count": 6,
     "metadata": {},
     "output_type": "execute_result"
    }
   ],
   "source": [
    "df2.describe()"
   ]
  },
  {
   "cell_type": "code",
   "execution_count": 8,
   "id": "f067c208",
   "metadata": {
    "scrolled": true
   },
   "outputs": [
    {
     "data": {
      "text/html": [
       "<div>\n",
       "<style scoped>\n",
       "    .dataframe tbody tr th:only-of-type {\n",
       "        vertical-align: middle;\n",
       "    }\n",
       "\n",
       "    .dataframe tbody tr th {\n",
       "        vertical-align: top;\n",
       "    }\n",
       "\n",
       "    .dataframe thead th {\n",
       "        text-align: right;\n",
       "    }\n",
       "</style>\n",
       "<table border=\"1\" class=\"dataframe\">\n",
       "  <thead>\n",
       "    <tr style=\"text-align: right;\">\n",
       "      <th></th>\n",
       "      <th>이름</th>\n",
       "      <th>계급</th>\n",
       "      <th>키</th>\n",
       "      <th>국어</th>\n",
       "      <th>영어</th>\n",
       "      <th>수학</th>\n",
       "      <th>과학</th>\n",
       "      <th>사회</th>\n",
       "      <th>사용호흡</th>\n",
       "    </tr>\n",
       "    <tr>\n",
       "      <th>이명</th>\n",
       "      <th></th>\n",
       "      <th></th>\n",
       "      <th></th>\n",
       "      <th></th>\n",
       "      <th></th>\n",
       "      <th></th>\n",
       "      <th></th>\n",
       "      <th></th>\n",
       "      <th></th>\n",
       "    </tr>\n",
       "  </thead>\n",
       "  <tbody>\n",
       "    <tr>\n",
       "      <th>염주</th>\n",
       "      <td>렌고쿠</td>\n",
       "      <td>주</td>\n",
       "      <td>177</td>\n",
       "      <td>90</td>\n",
       "      <td>85</td>\n",
       "      <td>100</td>\n",
       "      <td>95</td>\n",
       "      <td>85</td>\n",
       "      <td>화염</td>\n",
       "    </tr>\n",
       "    <tr>\n",
       "      <th>하주</th>\n",
       "      <td>무이치로</td>\n",
       "      <td>주</td>\n",
       "      <td>160</td>\n",
       "      <td>40</td>\n",
       "      <td>35</td>\n",
       "      <td>50</td>\n",
       "      <td>55</td>\n",
       "      <td>25</td>\n",
       "      <td>안개</td>\n",
       "    </tr>\n",
       "    <tr>\n",
       "      <th>음주</th>\n",
       "      <td>텐겐</td>\n",
       "      <td>주</td>\n",
       "      <td>198</td>\n",
       "      <td>80</td>\n",
       "      <td>75</td>\n",
       "      <td>70</td>\n",
       "      <td>80</td>\n",
       "      <td>75</td>\n",
       "      <td>소리</td>\n",
       "    </tr>\n",
       "    <tr>\n",
       "      <th>연주</th>\n",
       "      <td>미츠리</td>\n",
       "      <td>주</td>\n",
       "      <td>167</td>\n",
       "      <td>40</td>\n",
       "      <td>60</td>\n",
       "      <td>70</td>\n",
       "      <td>75</td>\n",
       "      <td>80</td>\n",
       "      <td>꽃</td>\n",
       "    </tr>\n",
       "    <tr>\n",
       "      <th>수주</th>\n",
       "      <td>기유</td>\n",
       "      <td>주</td>\n",
       "      <td>176</td>\n",
       "      <td>15</td>\n",
       "      <td>20</td>\n",
       "      <td>10</td>\n",
       "      <td>35</td>\n",
       "      <td>10</td>\n",
       "      <td>물</td>\n",
       "    </tr>\n",
       "  </tbody>\n",
       "</table>\n",
       "</div>"
      ],
      "text/plain": [
       "      이름 계급    키  국어  영어   수학  과학  사회 사용호흡\n",
       "이명                                        \n",
       "염주   렌고쿠  주  177  90  85  100  95  85   화염\n",
       "하주  무이치로  주  160  40  35   50  55  25   안개\n",
       "음주    텐겐  주  198  80  75   70  80  75   소리\n",
       "연주   미츠리  주  167  40  60   70  75  80    꽃\n",
       "수주    기유  주  176  15  20   10  35  10    물"
      ]
     },
     "execution_count": 8,
     "metadata": {},
     "output_type": "execute_result"
    }
   ],
   "source": [
    "df2.head() #입력하지 않으면 기본 값으로 5개를 가져옴"
   ]
  },
  {
   "cell_type": "code",
   "execution_count": 9,
   "id": "eb38ed66",
   "metadata": {},
   "outputs": [
    {
     "data": {
      "text/html": [
       "<div>\n",
       "<style scoped>\n",
       "    .dataframe tbody tr th:only-of-type {\n",
       "        vertical-align: middle;\n",
       "    }\n",
       "\n",
       "    .dataframe tbody tr th {\n",
       "        vertical-align: top;\n",
       "    }\n",
       "\n",
       "    .dataframe thead th {\n",
       "        text-align: right;\n",
       "    }\n",
       "</style>\n",
       "<table border=\"1\" class=\"dataframe\">\n",
       "  <thead>\n",
       "    <tr style=\"text-align: right;\">\n",
       "      <th></th>\n",
       "      <th>이름</th>\n",
       "      <th>계급</th>\n",
       "      <th>키</th>\n",
       "      <th>국어</th>\n",
       "      <th>영어</th>\n",
       "      <th>수학</th>\n",
       "      <th>과학</th>\n",
       "      <th>사회</th>\n",
       "      <th>사용호흡</th>\n",
       "    </tr>\n",
       "    <tr>\n",
       "      <th>이명</th>\n",
       "      <th></th>\n",
       "      <th></th>\n",
       "      <th></th>\n",
       "      <th></th>\n",
       "      <th></th>\n",
       "      <th></th>\n",
       "      <th></th>\n",
       "      <th></th>\n",
       "      <th></th>\n",
       "    </tr>\n",
       "  </thead>\n",
       "  <tbody>\n",
       "    <tr>\n",
       "      <th>염주</th>\n",
       "      <td>렌고쿠</td>\n",
       "      <td>주</td>\n",
       "      <td>177</td>\n",
       "      <td>90</td>\n",
       "      <td>85</td>\n",
       "      <td>100</td>\n",
       "      <td>95</td>\n",
       "      <td>85</td>\n",
       "      <td>화염</td>\n",
       "    </tr>\n",
       "    <tr>\n",
       "      <th>하주</th>\n",
       "      <td>무이치로</td>\n",
       "      <td>주</td>\n",
       "      <td>160</td>\n",
       "      <td>40</td>\n",
       "      <td>35</td>\n",
       "      <td>50</td>\n",
       "      <td>55</td>\n",
       "      <td>25</td>\n",
       "      <td>안개</td>\n",
       "    </tr>\n",
       "    <tr>\n",
       "      <th>음주</th>\n",
       "      <td>텐겐</td>\n",
       "      <td>주</td>\n",
       "      <td>198</td>\n",
       "      <td>80</td>\n",
       "      <td>75</td>\n",
       "      <td>70</td>\n",
       "      <td>80</td>\n",
       "      <td>75</td>\n",
       "      <td>소리</td>\n",
       "    </tr>\n",
       "    <tr>\n",
       "      <th>연주</th>\n",
       "      <td>미츠리</td>\n",
       "      <td>주</td>\n",
       "      <td>167</td>\n",
       "      <td>40</td>\n",
       "      <td>60</td>\n",
       "      <td>70</td>\n",
       "      <td>75</td>\n",
       "      <td>80</td>\n",
       "      <td>꽃</td>\n",
       "    </tr>\n",
       "    <tr>\n",
       "      <th>수주</th>\n",
       "      <td>기유</td>\n",
       "      <td>주</td>\n",
       "      <td>176</td>\n",
       "      <td>15</td>\n",
       "      <td>20</td>\n",
       "      <td>10</td>\n",
       "      <td>35</td>\n",
       "      <td>10</td>\n",
       "      <td>물</td>\n",
       "    </tr>\n",
       "    <tr>\n",
       "      <th>충주</th>\n",
       "      <td>시노부</td>\n",
       "      <td>주</td>\n",
       "      <td>151</td>\n",
       "      <td>80</td>\n",
       "      <td>100</td>\n",
       "      <td>95</td>\n",
       "      <td>85</td>\n",
       "      <td>80</td>\n",
       "      <td>벌레</td>\n",
       "    </tr>\n",
       "    <tr>\n",
       "      <th>풍주</th>\n",
       "      <td>사네미</td>\n",
       "      <td>주</td>\n",
       "      <td>179</td>\n",
       "      <td>55</td>\n",
       "      <td>65</td>\n",
       "      <td>45</td>\n",
       "      <td>40</td>\n",
       "      <td>35</td>\n",
       "      <td>바람</td>\n",
       "    </tr>\n",
       "  </tbody>\n",
       "</table>\n",
       "</div>"
      ],
      "text/plain": [
       "      이름 계급    키  국어   영어   수학  과학  사회 사용호흡\n",
       "이명                                         \n",
       "염주   렌고쿠  주  177  90   85  100  95  85   화염\n",
       "하주  무이치로  주  160  40   35   50  55  25   안개\n",
       "음주    텐겐  주  198  80   75   70  80  75   소리\n",
       "연주   미츠리  주  167  40   60   70  75  80    꽃\n",
       "수주    기유  주  176  15   20   10  35  10    물\n",
       "충주   시노부  주  151  80  100   95  85  80   벌레\n",
       "풍주   사네미  주  179  55   65   45  40  35   바람"
      ]
     },
     "execution_count": 9,
     "metadata": {},
     "output_type": "execute_result"
    }
   ],
   "source": [
    "df2.head(7)"
   ]
  },
  {
   "cell_type": "code",
   "execution_count": 11,
   "id": "5b2ec2a6",
   "metadata": {},
   "outputs": [
    {
     "data": {
      "text/html": [
       "<div>\n",
       "<style scoped>\n",
       "    .dataframe tbody tr th:only-of-type {\n",
       "        vertical-align: middle;\n",
       "    }\n",
       "\n",
       "    .dataframe tbody tr th {\n",
       "        vertical-align: top;\n",
       "    }\n",
       "\n",
       "    .dataframe thead th {\n",
       "        text-align: right;\n",
       "    }\n",
       "</style>\n",
       "<table border=\"1\" class=\"dataframe\">\n",
       "  <thead>\n",
       "    <tr style=\"text-align: right;\">\n",
       "      <th></th>\n",
       "      <th>이름</th>\n",
       "      <th>계급</th>\n",
       "      <th>키</th>\n",
       "      <th>국어</th>\n",
       "      <th>영어</th>\n",
       "      <th>수학</th>\n",
       "      <th>과학</th>\n",
       "      <th>사회</th>\n",
       "      <th>사용호흡</th>\n",
       "    </tr>\n",
       "    <tr>\n",
       "      <th>이명</th>\n",
       "      <th></th>\n",
       "      <th></th>\n",
       "      <th></th>\n",
       "      <th></th>\n",
       "      <th></th>\n",
       "      <th></th>\n",
       "      <th></th>\n",
       "      <th></th>\n",
       "      <th></th>\n",
       "    </tr>\n",
       "  </thead>\n",
       "  <tbody>\n",
       "    <tr>\n",
       "      <th>연주</th>\n",
       "      <td>미츠리</td>\n",
       "      <td>주</td>\n",
       "      <td>167</td>\n",
       "      <td>40</td>\n",
       "      <td>60</td>\n",
       "      <td>70</td>\n",
       "      <td>75</td>\n",
       "      <td>80</td>\n",
       "      <td>꽃</td>\n",
       "    </tr>\n",
       "    <tr>\n",
       "      <th>수주</th>\n",
       "      <td>기유</td>\n",
       "      <td>주</td>\n",
       "      <td>176</td>\n",
       "      <td>15</td>\n",
       "      <td>20</td>\n",
       "      <td>10</td>\n",
       "      <td>35</td>\n",
       "      <td>10</td>\n",
       "      <td>물</td>\n",
       "    </tr>\n",
       "    <tr>\n",
       "      <th>충주</th>\n",
       "      <td>시노부</td>\n",
       "      <td>주</td>\n",
       "      <td>151</td>\n",
       "      <td>80</td>\n",
       "      <td>100</td>\n",
       "      <td>95</td>\n",
       "      <td>85</td>\n",
       "      <td>80</td>\n",
       "      <td>벌레</td>\n",
       "    </tr>\n",
       "    <tr>\n",
       "      <th>풍주</th>\n",
       "      <td>사네미</td>\n",
       "      <td>주</td>\n",
       "      <td>179</td>\n",
       "      <td>55</td>\n",
       "      <td>65</td>\n",
       "      <td>45</td>\n",
       "      <td>40</td>\n",
       "      <td>35</td>\n",
       "      <td>바람</td>\n",
       "    </tr>\n",
       "    <tr>\n",
       "      <th>주인공</th>\n",
       "      <td>탄지로</td>\n",
       "      <td>병</td>\n",
       "      <td>165</td>\n",
       "      <td>100</td>\n",
       "      <td>85</td>\n",
       "      <td>90</td>\n",
       "      <td>95</td>\n",
       "      <td>95</td>\n",
       "      <td>물, 해</td>\n",
       "    </tr>\n",
       "  </tbody>\n",
       "</table>\n",
       "</div>"
      ],
      "text/plain": [
       "      이름 계급    키   국어   영어  수학  과학  사회  사용호흡\n",
       "이명                                          \n",
       "연주   미츠리  주  167   40   60  70  75  80     꽃\n",
       "수주    기유  주  176   15   20  10  35  10     물\n",
       "충주   시노부  주  151   80  100  95  85  80    벌레\n",
       "풍주   사네미  주  179   55   65  45  40  35    바람\n",
       "주인공  탄지로  병  165  100   85  90  95  95  물, 해"
      ]
     },
     "execution_count": 11,
     "metadata": {},
     "output_type": "execute_result"
    }
   ],
   "source": [
    "df2.tail()"
   ]
  },
  {
   "cell_type": "code",
   "execution_count": 12,
   "id": "ae620192",
   "metadata": {},
   "outputs": [
    {
     "data": {
      "text/plain": [
       "array([['렌고쿠', '주', 177, 90, 85, 100, 95, 85, '화염'],\n",
       "       ['무이치로', '주', 160, 40, 35, 50, 55, 25, '안개'],\n",
       "       ['텐겐', '주', 198, 80, 75, 70, 80, 75, '소리'],\n",
       "       ['미츠리', '주', 167, 40, 60, 70, 75, 80, '꽃'],\n",
       "       ['기유', '주', 176, 15, 20, 10, 35, 10, '물'],\n",
       "       ['시노부', '주', 151, 80, 100, 95, 85, 80, '벌레'],\n",
       "       ['사네미', '주', 179, 55, 65, 45, 40, 35, '바람'],\n",
       "       ['탄지로', '병', 165, 100, 85, 90, 95, 95, '물, 해']], dtype=object)"
      ]
     },
     "execution_count": 12,
     "metadata": {},
     "output_type": "execute_result"
    }
   ],
   "source": [
    "df2.values  "
   ]
  },
  {
   "cell_type": "code",
   "execution_count": 13,
   "id": "69ff8e29",
   "metadata": {},
   "outputs": [
    {
     "data": {
      "text/plain": [
       "Index(['염주', '하주', '음주', '연주', '수주', '충주', '풍주', '주인공'], dtype='object', name='이명')"
      ]
     },
     "execution_count": 13,
     "metadata": {},
     "output_type": "execute_result"
    }
   ],
   "source": [
    "df2.index"
   ]
  },
  {
   "cell_type": "code",
   "execution_count": 14,
   "id": "629b858d",
   "metadata": {},
   "outputs": [
    {
     "data": {
      "text/plain": [
       "Index(['이름', '계급', '키', '국어', '영어', '수학', '과학', '사회', '사용호흡'], dtype='object')"
      ]
     },
     "execution_count": 14,
     "metadata": {},
     "output_type": "execute_result"
    }
   ],
   "source": [
    "df2.columns"
   ]
  },
  {
   "cell_type": "code",
   "execution_count": 15,
   "id": "9e39ddde",
   "metadata": {},
   "outputs": [
    {
     "data": {
      "text/plain": [
       "(8, 9)"
      ]
     },
     "execution_count": 15,
     "metadata": {},
     "output_type": "execute_result"
    }
   ],
   "source": [
    "df2.shape"
   ]
  },
  {
   "cell_type": "markdown",
   "id": "5cd32abd",
   "metadata": {},
   "source": [
    "## Series 확인"
   ]
  },
  {
   "cell_type": "code",
   "execution_count": 16,
   "id": "18869424",
   "metadata": {},
   "outputs": [
    {
     "data": {
      "text/plain": [
       "count      8.000000\n",
       "mean     171.625000\n",
       "std       14.262213\n",
       "min      151.000000\n",
       "25%      163.750000\n",
       "50%      171.500000\n",
       "75%      177.500000\n",
       "max      198.000000\n",
       "Name: 키, dtype: float64"
      ]
     },
     "execution_count": 16,
     "metadata": {},
     "output_type": "execute_result"
    }
   ],
   "source": [
    "df2['키'].describe()"
   ]
  },
  {
   "cell_type": "code",
   "execution_count": 17,
   "id": "28ab5f85",
   "metadata": {
    "scrolled": true
   },
   "outputs": [
    {
     "data": {
      "text/plain": [
       "이명\n",
       "음주    198\n",
       "풍주    179\n",
       "염주    177\n",
       "Name: 키, dtype: int64"
      ]
     },
     "execution_count": 17,
     "metadata": {},
     "output_type": "execute_result"
    }
   ],
   "source": [
    "df2['키'].nlargest(3) # 키 큰 사람 위에서 3명 "
   ]
  },
  {
   "cell_type": "code",
   "execution_count": 18,
   "id": "504485df",
   "metadata": {},
   "outputs": [
    {
     "data": {
      "text/plain": [
       "1373"
      ]
     },
     "execution_count": 18,
     "metadata": {},
     "output_type": "execute_result"
    }
   ],
   "source": [
    "df2['키'].sum()"
   ]
  },
  {
   "cell_type": "code",
   "execution_count": 19,
   "id": "1198d5ef",
   "metadata": {},
   "outputs": [
    {
     "data": {
      "text/plain": [
       "8"
      ]
     },
     "execution_count": 19,
     "metadata": {},
     "output_type": "execute_result"
    }
   ],
   "source": [
    "df2['사용호흡'].count()"
   ]
  },
  {
   "cell_type": "code",
   "execution_count": 20,
   "id": "ca8ecd91",
   "metadata": {},
   "outputs": [
    {
     "data": {
      "text/plain": [
       "array(['주', '병'], dtype=object)"
      ]
     },
     "execution_count": 20,
     "metadata": {},
     "output_type": "execute_result"
    }
   ],
   "source": [
    "df2['계급'].unique()"
   ]
  },
  {
   "cell_type": "code",
   "execution_count": null,
   "id": "f77c8e69",
   "metadata": {},
   "outputs": [],
   "source": []
  },
  {
   "cell_type": "code",
   "execution_count": null,
   "id": "c783f76c",
   "metadata": {},
   "outputs": [],
   "source": []
  }
 ],
 "metadata": {
  "kernelspec": {
   "display_name": "Python 3 (ipykernel)",
   "language": "python",
   "name": "python3"
  },
  "language_info": {
   "codemirror_mode": {
    "name": "ipython",
    "version": 3
   },
   "file_extension": ".py",
   "mimetype": "text/x-python",
   "name": "python",
   "nbconvert_exporter": "python",
   "pygments_lexer": "ipython3",
   "version": "3.9.7"
  }
 },
 "nbformat": 4,
 "nbformat_minor": 5
}
