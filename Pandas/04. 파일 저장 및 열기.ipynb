{
 "cells": [
  {
   "cell_type": "markdown",
   "id": "83fc5185",
   "metadata": {},
   "source": [
    "# 4. 파일 저장 및 열기\n",
    "DataFrame 객체를 excel, csv, txt 등 형태의 파일로 저장 및 열기"
   ]
  },
  {
   "cell_type": "code",
   "execution_count": 6,
   "id": "3344a6de",
   "metadata": {
    "scrolled": true
   },
   "outputs": [
    {
     "data": {
      "text/plain": [
       "{'이름': ['렌고쿠', '무이치로', '텐겐', '미츠리', '기유', '시노부', '사네미', '탄지로'],\n",
       " '계급': ['주', '주', '주', '주', '주', '주', '주', '병'],\n",
       " '키': [177, 160, 198, 167, 176, 151, 179, 165],\n",
       " '국어': [90, 40, 80, 40, 15, 80, 55, 100],\n",
       " '영어': [85, 35, 75, 60, 20, 100, 65, 85],\n",
       " '수학': [100, 50, 70, 70, 10, 95, 45, 90],\n",
       " '과학': [95, 55, 80, 75, 35, 85, 40, 95],\n",
       " '사회': [85, 25, 75, 80, 10, 80, 35, 95],\n",
       " '사용호흡': ['화염', '안개', '소리', '꽃', '물', '벌레', '바람', '물, 해']}"
      ]
     },
     "execution_count": 6,
     "metadata": {},
     "output_type": "execute_result"
    }
   ],
   "source": [
    "DSC = {\n",
    "    '이름' : ['렌고쿠', '무이치로', '텐겐', '미츠리', '기유', '시노부', '사네미', '탄지로'],\n",
    "    '계급' : ['주', '주', '주', '주', '주', '주', '주', '병'],\n",
    "    '키' : [177, 160, 198, 167, 176, 151, 179, 165],\n",
    "    '국어' : [90, 40, 80, 40, 15, 80, 55, 100],\n",
    "    '영어' : [85, 35, 75, 60, 20, 100, 65, 85],\n",
    "    '수학' : [100, 50, 70, 70, 10, 95, 45, 90],\n",
    "    '과학' : [95, 55, 80, 75, 35, 85, 40, 95],\n",
    "    '사회' : [85, 25, 75, 80, 10, 80, 35, 95],\n",
    "    '사용호흡' : ['화염', '안개', '소리', '꽃', '물', '벌레', '바람', '물, 해']\n",
    "}\n",
    "data"
   ]
  },
  {
   "cell_type": "code",
   "execution_count": 7,
   "id": "0b9b6133",
   "metadata": {
    "scrolled": true
   },
   "outputs": [
    {
     "data": {
      "text/html": [
       "<div>\n",
       "<style scoped>\n",
       "    .dataframe tbody tr th:only-of-type {\n",
       "        vertical-align: middle;\n",
       "    }\n",
       "\n",
       "    .dataframe tbody tr th {\n",
       "        vertical-align: top;\n",
       "    }\n",
       "\n",
       "    .dataframe thead th {\n",
       "        text-align: right;\n",
       "    }\n",
       "</style>\n",
       "<table border=\"1\" class=\"dataframe\">\n",
       "  <thead>\n",
       "    <tr style=\"text-align: right;\">\n",
       "      <th></th>\n",
       "      <th>이름</th>\n",
       "      <th>계급</th>\n",
       "      <th>키</th>\n",
       "      <th>국어</th>\n",
       "      <th>영어</th>\n",
       "      <th>수학</th>\n",
       "      <th>과학</th>\n",
       "      <th>사회</th>\n",
       "      <th>사용호흡</th>\n",
       "    </tr>\n",
       "    <tr>\n",
       "      <th>이명</th>\n",
       "      <th></th>\n",
       "      <th></th>\n",
       "      <th></th>\n",
       "      <th></th>\n",
       "      <th></th>\n",
       "      <th></th>\n",
       "      <th></th>\n",
       "      <th></th>\n",
       "      <th></th>\n",
       "    </tr>\n",
       "  </thead>\n",
       "  <tbody>\n",
       "    <tr>\n",
       "      <th>염주</th>\n",
       "      <td>렌고쿠</td>\n",
       "      <td>주</td>\n",
       "      <td>177</td>\n",
       "      <td>90</td>\n",
       "      <td>85</td>\n",
       "      <td>100</td>\n",
       "      <td>95</td>\n",
       "      <td>85</td>\n",
       "      <td>화염</td>\n",
       "    </tr>\n",
       "    <tr>\n",
       "      <th>하주</th>\n",
       "      <td>무이치로</td>\n",
       "      <td>주</td>\n",
       "      <td>160</td>\n",
       "      <td>40</td>\n",
       "      <td>35</td>\n",
       "      <td>50</td>\n",
       "      <td>55</td>\n",
       "      <td>25</td>\n",
       "      <td>안개</td>\n",
       "    </tr>\n",
       "    <tr>\n",
       "      <th>음주</th>\n",
       "      <td>텐겐</td>\n",
       "      <td>주</td>\n",
       "      <td>198</td>\n",
       "      <td>80</td>\n",
       "      <td>75</td>\n",
       "      <td>70</td>\n",
       "      <td>80</td>\n",
       "      <td>75</td>\n",
       "      <td>소리</td>\n",
       "    </tr>\n",
       "    <tr>\n",
       "      <th>연주</th>\n",
       "      <td>미츠리</td>\n",
       "      <td>주</td>\n",
       "      <td>167</td>\n",
       "      <td>40</td>\n",
       "      <td>60</td>\n",
       "      <td>70</td>\n",
       "      <td>75</td>\n",
       "      <td>80</td>\n",
       "      <td>꽃</td>\n",
       "    </tr>\n",
       "    <tr>\n",
       "      <th>수주</th>\n",
       "      <td>기유</td>\n",
       "      <td>주</td>\n",
       "      <td>176</td>\n",
       "      <td>15</td>\n",
       "      <td>20</td>\n",
       "      <td>10</td>\n",
       "      <td>35</td>\n",
       "      <td>10</td>\n",
       "      <td>물</td>\n",
       "    </tr>\n",
       "    <tr>\n",
       "      <th>충주</th>\n",
       "      <td>시노부</td>\n",
       "      <td>주</td>\n",
       "      <td>151</td>\n",
       "      <td>80</td>\n",
       "      <td>100</td>\n",
       "      <td>95</td>\n",
       "      <td>85</td>\n",
       "      <td>80</td>\n",
       "      <td>벌레</td>\n",
       "    </tr>\n",
       "    <tr>\n",
       "      <th>풍주</th>\n",
       "      <td>사네미</td>\n",
       "      <td>주</td>\n",
       "      <td>179</td>\n",
       "      <td>55</td>\n",
       "      <td>65</td>\n",
       "      <td>45</td>\n",
       "      <td>40</td>\n",
       "      <td>35</td>\n",
       "      <td>바람</td>\n",
       "    </tr>\n",
       "    <tr>\n",
       "      <th>주인공</th>\n",
       "      <td>탄지로</td>\n",
       "      <td>병</td>\n",
       "      <td>165</td>\n",
       "      <td>100</td>\n",
       "      <td>85</td>\n",
       "      <td>90</td>\n",
       "      <td>95</td>\n",
       "      <td>95</td>\n",
       "      <td>물, 해</td>\n",
       "    </tr>\n",
       "  </tbody>\n",
       "</table>\n",
       "</div>"
      ],
      "text/plain": [
       "       이름 계급    키   국어   영어   수학  과학  사회  사용호흡\n",
       "이명                                            \n",
       "염주    렌고쿠  주  177   90   85  100  95  85    화염\n",
       "하주   무이치로  주  160   40   35   50  55  25    안개\n",
       "음주     텐겐  주  198   80   75   70  80  75    소리\n",
       "연주    미츠리  주  167   40   60   70  75  80     꽃\n",
       "수주     기유  주  176   15   20   10  35  10     물\n",
       "충주    시노부  주  151   80  100   95  85  80    벌레\n",
       "풍주    사네미  주  179   55   65   45  40  35    바람\n",
       "주인공   탄지로  병  165  100   85   90  95  95  물, 해"
      ]
     },
     "execution_count": 7,
     "metadata": {},
     "output_type": "execute_result"
    }
   ],
   "source": [
    "import pandas as pd\n",
    "df = pd.DataFrame(DSC, index=['염주','하주','음주','연주','수주','충주','풍주','주인공'])\n",
    "df.index.name ='이명'\n",
    "df"
   ]
  },
  {
   "cell_type": "markdown",
   "id": "0d763dbe",
   "metadata": {},
   "source": [
    "## 저장하기 \n",
    "csv 파일로 저장"
   ]
  },
  {
   "cell_type": "code",
   "execution_count": 9,
   "id": "306c6b4b",
   "metadata": {},
   "outputs": [],
   "source": [
    "df.to_csv('DSC.csv')"
   ]
  },
  {
   "cell_type": "code",
   "execution_count": null,
   "id": "327c23c1",
   "metadata": {},
   "outputs": [],
   "source": []
  }
 ],
 "metadata": {
  "kernelspec": {
   "display_name": "Python 3 (ipykernel)",
   "language": "python",
   "name": "python3"
  },
  "language_info": {
   "codemirror_mode": {
    "name": "ipython",
    "version": 3
   },
   "file_extension": ".py",
   "mimetype": "text/x-python",
   "name": "python",
   "nbconvert_exporter": "python",
   "pygments_lexer": "ipython3",
   "version": "3.9.7"
  }
 },
 "nbformat": 4,
 "nbformat_minor": 5
}
